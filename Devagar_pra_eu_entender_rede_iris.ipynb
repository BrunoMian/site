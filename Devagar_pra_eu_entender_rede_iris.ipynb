{
  "nbformat": 4,
  "nbformat_minor": 0,
  "metadata": {
    "colab": {
      "name": "Devagar_pra_eu_entender rede_iris.ipynb",
      "provenance": [],
      "collapsed_sections": [],
      "include_colab_link": true
    },
    "kernelspec": {
      "name": "python3",
      "display_name": "Python 3"
    },
    "accelerator": "TPU"
  },
  "cells": [
    {
      "cell_type": "markdown",
      "metadata": {
        "id": "view-in-github",
        "colab_type": "text"
      },
      "source": [
        "<a href=\"https://colab.research.google.com/github/BrunoMian/site/blob/master/Devagar_pra_eu_entender_rede_iris.ipynb\" target=\"_parent\"><img src=\"https://colab.research.google.com/assets/colab-badge.svg\" alt=\"Open In Colab\"/></a>"
      ]
    },
    {
      "cell_type": "markdown",
      "metadata": {
        "id": "pIHQIRl1mXwY",
        "colab_type": "text"
      },
      "source": [
        "**Arquitetura e Implementação**"
      ]
    },
    {
      "cell_type": "markdown",
      "metadata": {
        "id": "7vfgbd-ICGAl",
        "colab_type": "text"
      },
      "source": [
        "Começamos chamando a biblioteca ¨tensorflow¨ e dando o apelido de ¨tf¨"
      ]
    },
    {
      "cell_type": "code",
      "metadata": {
        "id": "gRqWbIwFcF6j",
        "colab_type": "code",
        "colab": {}
      },
      "source": [
        "import tensorflow as tf"
      ],
      "execution_count": null,
      "outputs": []
    },
    {
      "cell_type": "markdown",
      "metadata": {
        "id": "hjjLWzVtI7Us",
        "colab_type": "text"
      },
      "source": [
        "Em seguida usamos a função ¨Sequential¨ para criar um modelo de rede neural chamado ¨rede¨"
      ]
    },
    {
      "cell_type": "code",
      "metadata": {
        "id": "l7in2OtbgCdd",
        "colab_type": "code",
        "colab": {}
      },
      "source": [
        "rede = tf.keras.models.Sequential()"
      ],
      "execution_count": null,
      "outputs": []
    },
    {
      "cell_type": "markdown",
      "metadata": {
        "id": "pq7sv0LSJNxs",
        "colab_type": "text"
      },
      "source": [
        "Por ultimo usamos a função ¨add¨ para adicionar camadas na nossa rede,\n",
        "cada camada é do tipo ¨Dense¨ e recebe os parametros descritos no video"
      ]
    },
    {
      "cell_type": "code",
      "metadata": {
        "id": "AIhd-EKngFRp",
        "colab_type": "code",
        "colab": {}
      },
      "source": [
        "rede.add(tf.keras.layers.Dense(units=10,input_shape=(4,),activation='sigmoid'))\n",
        "rede.add(tf.keras.layers.Dense(units=16,activation='sigmoid'))\n",
        "rede.add(tf.keras.layers.Dense(units=3,activation='softmax'))"
      ],
      "execution_count": null,
      "outputs": []
    },
    {
      "cell_type": "markdown",
      "metadata": {
        "id": "i5xOiJvOmvyh",
        "colab_type": "text"
      },
      "source": [
        "**Aprendizado de Redes Neurais**\n",
        "\n",
        "\n"
      ]
    },
    {
      "cell_type": "code",
      "metadata": {
        "id": "DveW5fu9m85d",
        "colab_type": "code",
        "colab": {}
      },
      "source": [
        "rede.compile(loss='sparse_categorical_crossentropy', optimizer='adam', metrics='accuracy')"
      ],
      "execution_count": null,
      "outputs": []
    },
    {
      "cell_type": "markdown",
      "metadata": {
        "id": "nb87zRDDtoXK",
        "colab_type": "text"
      },
      "source": [
        "**Treinamento, Resultados e Validação**\n",
        "\n"
      ]
    },
    {
      "cell_type": "code",
      "metadata": {
        "id": "tW6UIYxatm9X",
        "colab_type": "code",
        "colab": {}
      },
      "source": [
        "from sklearn.datasets import load_iris\n",
        "from sklearn.model_selection import train_test_split"
      ],
      "execution_count": null,
      "outputs": []
    },
    {
      "cell_type": "code",
      "metadata": {
        "id": "q2D0tK2tolXT",
        "colab_type": "code",
        "colab": {
          "base_uri": "https://localhost:8080/",
          "height": 34
        },
        "outputId": "fc82fd1e-927a-4776-fcf4-a856e6833a2e"
      },
      "source": [
        "banco = load_iris()\n",
        "banco.keys()"
      ],
      "execution_count": null,
      "outputs": [
        {
          "output_type": "execute_result",
          "data": {
            "text/plain": [
              "dict_keys(['data', 'target', 'target_names', 'DESCR', 'feature_names', 'filename'])"
            ]
          },
          "metadata": {
            "tags": []
          },
          "execution_count": 6
        }
      ]
    },
    {
      "cell_type": "code",
      "metadata": {
        "id": "CF0ZJ9LtunEx",
        "colab_type": "code",
        "colab": {
          "base_uri": "https://localhost:8080/",
          "height": 34
        },
        "outputId": "938f0e41-9881-4ca2-c603-1a3dfdfcc732"
      },
      "source": [
        "banco['data'][37]"
      ],
      "execution_count": null,
      "outputs": [
        {
          "output_type": "execute_result",
          "data": {
            "text/plain": [
              "array([4.9, 3.6, 1.4, 0.1])"
            ]
          },
          "metadata": {
            "tags": []
          },
          "execution_count": 7
        }
      ]
    },
    {
      "cell_type": "code",
      "metadata": {
        "id": "uWTaa4lc1AtA",
        "colab_type": "code",
        "colab": {
          "base_uri": "https://localhost:8080/",
          "height": 34
        },
        "outputId": "785e5cea-ff62-4272-87e6-0134c3030f36"
      },
      "source": [
        "banco['target_names']"
      ],
      "execution_count": null,
      "outputs": [
        {
          "output_type": "execute_result",
          "data": {
            "text/plain": [
              "array(['setosa', 'versicolor', 'virginica'], dtype='<U10')"
            ]
          },
          "metadata": {
            "tags": []
          },
          "execution_count": 8
        }
      ]
    },
    {
      "cell_type": "code",
      "metadata": {
        "id": "rQ3uQ7EWjeIh",
        "colab_type": "code",
        "colab": {}
      },
      "source": [
        "X = banco['data']\n",
        "y = banco['target']\n",
        "\n",
        "X_train, X_test, y_train , y_test = train_test_split(X,y, test_size = 0.2)"
      ],
      "execution_count": null,
      "outputs": []
    },
    {
      "cell_type": "markdown",
      "metadata": {
        "id": "GEH1GA_fxB9_",
        "colab_type": "text"
      },
      "source": [
        "Como a train_test_split separa de forma aleatória, o resultado na prova pode variar, mas nos nossos testes ficou entre 0.15 e 0.40"
      ]
    },
    {
      "cell_type": "code",
      "metadata": {
        "id": "IkdHbHLqyLPe",
        "colab_type": "code",
        "colab": {
          "base_uri": "https://localhost:8080/",
          "height": 51
        },
        "outputId": "c5088075-d6fa-490a-acf7-6be56280e3c5"
      },
      "source": [
        "rede.evaluate(X_test,y_test)"
      ],
      "execution_count": null,
      "outputs": [
        {
          "output_type": "stream",
          "text": [
            "1/1 [==============================] - 0s 2ms/step - loss: 1.1694 - accuracy: 0.3667\n"
          ],
          "name": "stdout"
        },
        {
          "output_type": "execute_result",
          "data": {
            "text/plain": [
              "[1.169405460357666, 0.36666667461395264]"
            ]
          },
          "metadata": {
            "tags": []
          },
          "execution_count": 10
        }
      ]
    },
    {
      "cell_type": "markdown",
      "metadata": {
        "id": "glpYIBcwxWdI",
        "colab_type": "text"
      },
      "source": [
        "Como o ponto de partida são pesos aleatórios e a separação do train_test_split também, o resultado da rede pode ser diferente. A acuracia ficou acima de 80% em todos os nossos testes."
      ]
    },
    {
      "cell_type": "code",
      "metadata": {
        "id": "9mWrHiu-j2xc",
        "colab_type": "code",
        "colab": {
          "base_uri": "https://localhost:8080/",
          "height": 1000
        },
        "outputId": "f4e31f8e-3b52-40a9-c0ba-2ebbd890400d"
      },
      "source": [
        "r = rede.fit(X_train, y_train, epochs=150 ,validation_data=(X_test,y_test))"
      ],
      "execution_count": null,
      "outputs": [
        {
          "output_type": "stream",
          "text": [
            "Epoch 1/150\n",
            "4/4 [==============================] - 0s 12ms/step - loss: 1.2030 - accuracy: 0.3250 - val_loss: 1.1511 - val_accuracy: 0.3667\n",
            "Epoch 2/150\n",
            "4/4 [==============================] - 0s 7ms/step - loss: 1.1808 - accuracy: 0.3250 - val_loss: 1.1362 - val_accuracy: 0.3667\n",
            "Epoch 3/150\n",
            "4/4 [==============================] - 0s 6ms/step - loss: 1.1639 - accuracy: 0.3250 - val_loss: 1.1225 - val_accuracy: 0.3667\n",
            "Epoch 4/150\n",
            "4/4 [==============================] - 0s 6ms/step - loss: 1.1443 - accuracy: 0.3250 - val_loss: 1.1115 - val_accuracy: 0.3667\n",
            "Epoch 5/150\n",
            "4/4 [==============================] - 0s 5ms/step - loss: 1.1311 - accuracy: 0.3250 - val_loss: 1.1020 - val_accuracy: 0.3667\n",
            "Epoch 6/150\n",
            "4/4 [==============================] - 0s 5ms/step - loss: 1.1204 - accuracy: 0.3250 - val_loss: 1.0942 - val_accuracy: 0.3667\n",
            "Epoch 7/150\n",
            "4/4 [==============================] - 0s 5ms/step - loss: 1.1097 - accuracy: 0.3250 - val_loss: 1.0880 - val_accuracy: 0.3667\n",
            "Epoch 8/150\n",
            "4/4 [==============================] - 0s 5ms/step - loss: 1.0993 - accuracy: 0.3250 - val_loss: 1.0843 - val_accuracy: 0.3667\n",
            "Epoch 9/150\n",
            "4/4 [==============================] - 0s 5ms/step - loss: 1.0936 - accuracy: 0.3250 - val_loss: 1.0805 - val_accuracy: 0.3667\n",
            "Epoch 10/150\n",
            "4/4 [==============================] - 0s 6ms/step - loss: 1.0867 - accuracy: 0.3250 - val_loss: 1.0775 - val_accuracy: 0.3667\n",
            "Epoch 11/150\n",
            "4/4 [==============================] - 0s 5ms/step - loss: 1.0811 - accuracy: 0.3250 - val_loss: 1.0749 - val_accuracy: 0.3667\n",
            "Epoch 12/150\n",
            "4/4 [==============================] - 0s 5ms/step - loss: 1.0779 - accuracy: 0.3250 - val_loss: 1.0731 - val_accuracy: 0.3667\n",
            "Epoch 13/150\n",
            "4/4 [==============================] - 0s 6ms/step - loss: 1.0729 - accuracy: 0.3250 - val_loss: 1.0710 - val_accuracy: 0.3667\n",
            "Epoch 14/150\n",
            "4/4 [==============================] - 0s 6ms/step - loss: 1.0694 - accuracy: 0.3250 - val_loss: 1.0692 - val_accuracy: 0.3667\n",
            "Epoch 15/150\n",
            "4/4 [==============================] - 0s 5ms/step - loss: 1.0662 - accuracy: 0.4083 - val_loss: 1.0671 - val_accuracy: 0.6000\n",
            "Epoch 16/150\n",
            "4/4 [==============================] - 0s 5ms/step - loss: 1.0632 - accuracy: 0.6083 - val_loss: 1.0655 - val_accuracy: 0.5000\n",
            "Epoch 17/150\n",
            "4/4 [==============================] - 0s 5ms/step - loss: 1.0603 - accuracy: 0.4917 - val_loss: 1.0633 - val_accuracy: 0.6000\n",
            "Epoch 18/150\n",
            "4/4 [==============================] - 0s 5ms/step - loss: 1.0574 - accuracy: 0.6667 - val_loss: 1.0612 - val_accuracy: 0.6333\n",
            "Epoch 19/150\n",
            "4/4 [==============================] - 0s 5ms/step - loss: 1.0546 - accuracy: 0.6750 - val_loss: 1.0595 - val_accuracy: 0.6333\n",
            "Epoch 20/150\n",
            "4/4 [==============================] - 0s 6ms/step - loss: 1.0514 - accuracy: 0.6750 - val_loss: 1.0566 - val_accuracy: 0.6333\n",
            "Epoch 21/150\n",
            "4/4 [==============================] - 0s 5ms/step - loss: 1.0481 - accuracy: 0.6750 - val_loss: 1.0538 - val_accuracy: 0.6333\n",
            "Epoch 22/150\n",
            "4/4 [==============================] - 0s 5ms/step - loss: 1.0451 - accuracy: 0.6750 - val_loss: 1.0514 - val_accuracy: 0.6333\n",
            "Epoch 23/150\n",
            "4/4 [==============================] - 0s 7ms/step - loss: 1.0416 - accuracy: 0.6750 - val_loss: 1.0481 - val_accuracy: 0.6333\n",
            "Epoch 24/150\n",
            "4/4 [==============================] - 0s 5ms/step - loss: 1.0383 - accuracy: 0.6750 - val_loss: 1.0452 - val_accuracy: 0.6333\n",
            "Epoch 25/150\n",
            "4/4 [==============================] - 0s 5ms/step - loss: 1.0344 - accuracy: 0.6750 - val_loss: 1.0419 - val_accuracy: 0.6333\n",
            "Epoch 26/150\n",
            "4/4 [==============================] - 0s 5ms/step - loss: 1.0307 - accuracy: 0.6750 - val_loss: 1.0381 - val_accuracy: 0.6333\n",
            "Epoch 27/150\n",
            "4/4 [==============================] - 0s 5ms/step - loss: 1.0267 - accuracy: 0.6750 - val_loss: 1.0344 - val_accuracy: 0.6333\n",
            "Epoch 28/150\n",
            "4/4 [==============================] - 0s 5ms/step - loss: 1.0227 - accuracy: 0.6750 - val_loss: 1.0297 - val_accuracy: 0.6333\n",
            "Epoch 29/150\n",
            "4/4 [==============================] - 0s 6ms/step - loss: 1.0182 - accuracy: 0.6750 - val_loss: 1.0254 - val_accuracy: 0.6333\n",
            "Epoch 30/150\n",
            "4/4 [==============================] - 0s 5ms/step - loss: 1.0139 - accuracy: 0.6750 - val_loss: 1.0211 - val_accuracy: 0.6333\n",
            "Epoch 31/150\n",
            "4/4 [==============================] - 0s 5ms/step - loss: 1.0093 - accuracy: 0.6750 - val_loss: 1.0165 - val_accuracy: 0.6333\n",
            "Epoch 32/150\n",
            "4/4 [==============================] - 0s 6ms/step - loss: 1.0048 - accuracy: 0.6750 - val_loss: 1.0119 - val_accuracy: 0.6333\n",
            "Epoch 33/150\n",
            "4/4 [==============================] - 0s 6ms/step - loss: 1.0001 - accuracy: 0.6750 - val_loss: 1.0080 - val_accuracy: 0.6333\n",
            "Epoch 34/150\n",
            "4/4 [==============================] - 0s 5ms/step - loss: 0.9950 - accuracy: 0.6750 - val_loss: 1.0028 - val_accuracy: 0.6333\n",
            "Epoch 35/150\n",
            "4/4 [==============================] - 0s 5ms/step - loss: 0.9904 - accuracy: 0.6750 - val_loss: 0.9973 - val_accuracy: 0.6333\n",
            "Epoch 36/150\n",
            "4/4 [==============================] - 0s 5ms/step - loss: 0.9851 - accuracy: 0.6750 - val_loss: 0.9922 - val_accuracy: 0.6333\n",
            "Epoch 37/150\n",
            "4/4 [==============================] - 0s 6ms/step - loss: 0.9800 - accuracy: 0.6750 - val_loss: 0.9871 - val_accuracy: 0.6333\n",
            "Epoch 38/150\n",
            "4/4 [==============================] - 0s 6ms/step - loss: 0.9747 - accuracy: 0.6750 - val_loss: 0.9811 - val_accuracy: 0.6333\n",
            "Epoch 39/150\n",
            "4/4 [==============================] - 0s 6ms/step - loss: 0.9693 - accuracy: 0.6750 - val_loss: 0.9755 - val_accuracy: 0.6333\n",
            "Epoch 40/150\n",
            "4/4 [==============================] - 0s 6ms/step - loss: 0.9637 - accuracy: 0.6750 - val_loss: 0.9694 - val_accuracy: 0.6333\n",
            "Epoch 41/150\n",
            "4/4 [==============================] - 0s 5ms/step - loss: 0.9586 - accuracy: 0.6750 - val_loss: 0.9633 - val_accuracy: 0.6333\n",
            "Epoch 42/150\n",
            "4/4 [==============================] - 0s 6ms/step - loss: 0.9523 - accuracy: 0.6750 - val_loss: 0.9577 - val_accuracy: 0.6333\n",
            "Epoch 43/150\n",
            "4/4 [==============================] - 0s 6ms/step - loss: 0.9465 - accuracy: 0.6750 - val_loss: 0.9518 - val_accuracy: 0.6333\n",
            "Epoch 44/150\n",
            "4/4 [==============================] - 0s 5ms/step - loss: 0.9408 - accuracy: 0.6750 - val_loss: 0.9460 - val_accuracy: 0.6333\n",
            "Epoch 45/150\n",
            "4/4 [==============================] - 0s 5ms/step - loss: 0.9346 - accuracy: 0.6750 - val_loss: 0.9401 - val_accuracy: 0.6333\n",
            "Epoch 46/150\n",
            "4/4 [==============================] - 0s 7ms/step - loss: 0.9286 - accuracy: 0.6750 - val_loss: 0.9330 - val_accuracy: 0.6333\n",
            "Epoch 47/150\n",
            "4/4 [==============================] - 0s 6ms/step - loss: 0.9222 - accuracy: 0.6750 - val_loss: 0.9263 - val_accuracy: 0.6333\n",
            "Epoch 48/150\n",
            "4/4 [==============================] - 0s 5ms/step - loss: 0.9157 - accuracy: 0.6750 - val_loss: 0.9197 - val_accuracy: 0.6333\n",
            "Epoch 49/150\n",
            "4/4 [==============================] - 0s 6ms/step - loss: 0.9094 - accuracy: 0.6750 - val_loss: 0.9134 - val_accuracy: 0.6333\n",
            "Epoch 50/150\n",
            "4/4 [==============================] - 0s 6ms/step - loss: 0.9026 - accuracy: 0.6750 - val_loss: 0.9065 - val_accuracy: 0.6333\n",
            "Epoch 51/150\n",
            "4/4 [==============================] - 0s 5ms/step - loss: 0.8959 - accuracy: 0.6750 - val_loss: 0.8998 - val_accuracy: 0.6333\n",
            "Epoch 52/150\n",
            "4/4 [==============================] - 0s 5ms/step - loss: 0.8890 - accuracy: 0.6750 - val_loss: 0.8926 - val_accuracy: 0.6333\n",
            "Epoch 53/150\n",
            "4/4 [==============================] - 0s 5ms/step - loss: 0.8823 - accuracy: 0.6750 - val_loss: 0.8850 - val_accuracy: 0.6333\n",
            "Epoch 54/150\n",
            "4/4 [==============================] - 0s 5ms/step - loss: 0.8751 - accuracy: 0.6750 - val_loss: 0.8779 - val_accuracy: 0.6333\n",
            "Epoch 55/150\n",
            "4/4 [==============================] - 0s 6ms/step - loss: 0.8681 - accuracy: 0.6750 - val_loss: 0.8706 - val_accuracy: 0.6667\n",
            "Epoch 56/150\n",
            "4/4 [==============================] - 0s 6ms/step - loss: 0.8609 - accuracy: 0.6750 - val_loss: 0.8636 - val_accuracy: 0.6667\n",
            "Epoch 57/150\n",
            "4/4 [==============================] - 0s 6ms/step - loss: 0.8538 - accuracy: 0.6750 - val_loss: 0.8559 - val_accuracy: 0.6667\n",
            "Epoch 58/150\n",
            "4/4 [==============================] - 0s 5ms/step - loss: 0.8463 - accuracy: 0.6750 - val_loss: 0.8486 - val_accuracy: 0.6667\n",
            "Epoch 59/150\n",
            "4/4 [==============================] - 0s 5ms/step - loss: 0.8392 - accuracy: 0.6750 - val_loss: 0.8411 - val_accuracy: 0.6667\n",
            "Epoch 60/150\n",
            "4/4 [==============================] - 0s 5ms/step - loss: 0.8318 - accuracy: 0.6750 - val_loss: 0.8342 - val_accuracy: 0.6667\n",
            "Epoch 61/150\n",
            "4/4 [==============================] - 0s 5ms/step - loss: 0.8243 - accuracy: 0.6750 - val_loss: 0.8266 - val_accuracy: 0.6667\n",
            "Epoch 62/150\n",
            "4/4 [==============================] - 0s 5ms/step - loss: 0.8168 - accuracy: 0.6750 - val_loss: 0.8189 - val_accuracy: 0.6667\n",
            "Epoch 63/150\n",
            "4/4 [==============================] - 0s 5ms/step - loss: 0.8094 - accuracy: 0.6750 - val_loss: 0.8116 - val_accuracy: 0.6667\n",
            "Epoch 64/150\n",
            "4/4 [==============================] - 0s 6ms/step - loss: 0.8018 - accuracy: 0.6750 - val_loss: 0.8040 - val_accuracy: 0.6667\n",
            "Epoch 65/150\n",
            "4/4 [==============================] - 0s 8ms/step - loss: 0.7946 - accuracy: 0.6750 - val_loss: 0.7969 - val_accuracy: 0.6667\n",
            "Epoch 66/150\n",
            "4/4 [==============================] - 0s 6ms/step - loss: 0.7871 - accuracy: 0.6750 - val_loss: 0.7889 - val_accuracy: 0.6667\n",
            "Epoch 67/150\n",
            "4/4 [==============================] - 0s 5ms/step - loss: 0.7798 - accuracy: 0.6750 - val_loss: 0.7812 - val_accuracy: 0.7000\n",
            "Epoch 68/150\n",
            "4/4 [==============================] - 0s 5ms/step - loss: 0.7720 - accuracy: 0.6833 - val_loss: 0.7735 - val_accuracy: 0.7000\n",
            "Epoch 69/150\n",
            "4/4 [==============================] - 0s 6ms/step - loss: 0.7646 - accuracy: 0.6917 - val_loss: 0.7657 - val_accuracy: 0.7000\n",
            "Epoch 70/150\n",
            "4/4 [==============================] - 0s 5ms/step - loss: 0.7573 - accuracy: 0.6917 - val_loss: 0.7579 - val_accuracy: 0.7000\n",
            "Epoch 71/150\n",
            "4/4 [==============================] - 0s 6ms/step - loss: 0.7499 - accuracy: 0.6917 - val_loss: 0.7501 - val_accuracy: 0.7000\n",
            "Epoch 72/150\n",
            "4/4 [==============================] - 0s 5ms/step - loss: 0.7425 - accuracy: 0.6917 - val_loss: 0.7426 - val_accuracy: 0.7000\n",
            "Epoch 73/150\n",
            "4/4 [==============================] - 0s 5ms/step - loss: 0.7352 - accuracy: 0.6917 - val_loss: 0.7352 - val_accuracy: 0.7000\n",
            "Epoch 74/150\n",
            "4/4 [==============================] - 0s 8ms/step - loss: 0.7279 - accuracy: 0.6917 - val_loss: 0.7280 - val_accuracy: 0.7000\n",
            "Epoch 75/150\n",
            "4/4 [==============================] - 0s 5ms/step - loss: 0.7208 - accuracy: 0.6917 - val_loss: 0.7211 - val_accuracy: 0.7000\n",
            "Epoch 76/150\n",
            "4/4 [==============================] - 0s 5ms/step - loss: 0.7138 - accuracy: 0.6917 - val_loss: 0.7143 - val_accuracy: 0.7000\n",
            "Epoch 77/150\n",
            "4/4 [==============================] - 0s 6ms/step - loss: 0.7067 - accuracy: 0.6917 - val_loss: 0.7069 - val_accuracy: 0.7000\n",
            "Epoch 78/150\n",
            "4/4 [==============================] - 0s 5ms/step - loss: 0.6996 - accuracy: 0.6917 - val_loss: 0.6998 - val_accuracy: 0.7000\n",
            "Epoch 79/150\n",
            "4/4 [==============================] - 0s 5ms/step - loss: 0.6929 - accuracy: 0.6917 - val_loss: 0.6931 - val_accuracy: 0.7000\n",
            "Epoch 80/150\n",
            "4/4 [==============================] - 0s 5ms/step - loss: 0.6860 - accuracy: 0.7000 - val_loss: 0.6860 - val_accuracy: 0.7000\n",
            "Epoch 81/150\n",
            "4/4 [==============================] - 0s 5ms/step - loss: 0.6795 - accuracy: 0.7000 - val_loss: 0.6787 - val_accuracy: 0.7333\n",
            "Epoch 82/150\n",
            "4/4 [==============================] - 0s 7ms/step - loss: 0.6727 - accuracy: 0.7000 - val_loss: 0.6718 - val_accuracy: 0.7333\n",
            "Epoch 83/150\n",
            "4/4 [==============================] - 0s 6ms/step - loss: 0.6663 - accuracy: 0.7083 - val_loss: 0.6648 - val_accuracy: 0.7333\n",
            "Epoch 84/150\n",
            "4/4 [==============================] - 0s 6ms/step - loss: 0.6598 - accuracy: 0.7083 - val_loss: 0.6585 - val_accuracy: 0.7333\n",
            "Epoch 85/150\n",
            "4/4 [==============================] - 0s 5ms/step - loss: 0.6535 - accuracy: 0.7083 - val_loss: 0.6522 - val_accuracy: 0.7333\n",
            "Epoch 86/150\n",
            "4/4 [==============================] - 0s 5ms/step - loss: 0.6474 - accuracy: 0.7083 - val_loss: 0.6457 - val_accuracy: 0.7333\n",
            "Epoch 87/150\n",
            "4/4 [==============================] - 0s 6ms/step - loss: 0.6414 - accuracy: 0.7083 - val_loss: 0.6394 - val_accuracy: 0.7333\n",
            "Epoch 88/150\n",
            "4/4 [==============================] - 0s 5ms/step - loss: 0.6353 - accuracy: 0.7083 - val_loss: 0.6331 - val_accuracy: 0.7333\n",
            "Epoch 89/150\n",
            "4/4 [==============================] - 0s 5ms/step - loss: 0.6297 - accuracy: 0.7250 - val_loss: 0.6268 - val_accuracy: 0.7667\n",
            "Epoch 90/150\n",
            "4/4 [==============================] - 0s 5ms/step - loss: 0.6238 - accuracy: 0.7333 - val_loss: 0.6212 - val_accuracy: 0.7667\n",
            "Epoch 91/150\n",
            "4/4 [==============================] - 0s 5ms/step - loss: 0.6183 - accuracy: 0.7333 - val_loss: 0.6154 - val_accuracy: 0.7667\n",
            "Epoch 92/150\n",
            "4/4 [==============================] - 0s 5ms/step - loss: 0.6129 - accuracy: 0.7333 - val_loss: 0.6097 - val_accuracy: 0.7667\n",
            "Epoch 93/150\n",
            "4/4 [==============================] - 0s 5ms/step - loss: 0.6076 - accuracy: 0.7333 - val_loss: 0.6046 - val_accuracy: 0.7667\n",
            "Epoch 94/150\n",
            "4/4 [==============================] - 0s 6ms/step - loss: 0.6023 - accuracy: 0.7333 - val_loss: 0.5995 - val_accuracy: 0.7667\n",
            "Epoch 95/150\n",
            "4/4 [==============================] - 0s 5ms/step - loss: 0.5975 - accuracy: 0.7333 - val_loss: 0.5949 - val_accuracy: 0.7667\n",
            "Epoch 96/150\n",
            "4/4 [==============================] - 0s 5ms/step - loss: 0.5923 - accuracy: 0.7333 - val_loss: 0.5898 - val_accuracy: 0.7667\n",
            "Epoch 97/150\n",
            "4/4 [==============================] - 0s 6ms/step - loss: 0.5877 - accuracy: 0.7333 - val_loss: 0.5847 - val_accuracy: 0.7667\n",
            "Epoch 98/150\n",
            "4/4 [==============================] - 0s 5ms/step - loss: 0.5828 - accuracy: 0.7333 - val_loss: 0.5798 - val_accuracy: 0.7667\n",
            "Epoch 99/150\n",
            "4/4 [==============================] - 0s 6ms/step - loss: 0.5782 - accuracy: 0.7417 - val_loss: 0.5750 - val_accuracy: 0.7667\n",
            "Epoch 100/150\n",
            "4/4 [==============================] - 0s 5ms/step - loss: 0.5738 - accuracy: 0.7417 - val_loss: 0.5707 - val_accuracy: 0.7667\n",
            "Epoch 101/150\n",
            "4/4 [==============================] - 0s 5ms/step - loss: 0.5694 - accuracy: 0.7417 - val_loss: 0.5660 - val_accuracy: 0.7667\n",
            "Epoch 102/150\n",
            "4/4 [==============================] - 0s 6ms/step - loss: 0.5650 - accuracy: 0.7667 - val_loss: 0.5614 - val_accuracy: 0.7667\n",
            "Epoch 103/150\n",
            "4/4 [==============================] - 0s 5ms/step - loss: 0.5610 - accuracy: 0.7750 - val_loss: 0.5565 - val_accuracy: 0.7667\n",
            "Epoch 104/150\n",
            "4/4 [==============================] - 0s 5ms/step - loss: 0.5568 - accuracy: 0.7750 - val_loss: 0.5517 - val_accuracy: 0.8000\n",
            "Epoch 105/150\n",
            "4/4 [==============================] - 0s 5ms/step - loss: 0.5528 - accuracy: 0.7917 - val_loss: 0.5475 - val_accuracy: 0.8333\n",
            "Epoch 106/150\n",
            "4/4 [==============================] - 0s 5ms/step - loss: 0.5489 - accuracy: 0.8083 - val_loss: 0.5433 - val_accuracy: 0.8333\n",
            "Epoch 107/150\n",
            "4/4 [==============================] - 0s 5ms/step - loss: 0.5452 - accuracy: 0.8083 - val_loss: 0.5390 - val_accuracy: 0.8333\n",
            "Epoch 108/150\n",
            "4/4 [==============================] - 0s 6ms/step - loss: 0.5414 - accuracy: 0.8083 - val_loss: 0.5353 - val_accuracy: 0.8333\n",
            "Epoch 109/150\n",
            "4/4 [==============================] - 0s 5ms/step - loss: 0.5378 - accuracy: 0.8167 - val_loss: 0.5318 - val_accuracy: 0.8333\n",
            "Epoch 110/150\n",
            "4/4 [==============================] - 0s 5ms/step - loss: 0.5342 - accuracy: 0.8167 - val_loss: 0.5280 - val_accuracy: 0.8333\n",
            "Epoch 111/150\n",
            "4/4 [==============================] - 0s 5ms/step - loss: 0.5308 - accuracy: 0.8250 - val_loss: 0.5243 - val_accuracy: 0.8333\n",
            "Epoch 112/150\n",
            "4/4 [==============================] - 0s 5ms/step - loss: 0.5274 - accuracy: 0.8250 - val_loss: 0.5206 - val_accuracy: 0.8667\n",
            "Epoch 113/150\n",
            "4/4 [==============================] - 0s 6ms/step - loss: 0.5241 - accuracy: 0.8333 - val_loss: 0.5169 - val_accuracy: 0.8667\n",
            "Epoch 114/150\n",
            "4/4 [==============================] - 0s 5ms/step - loss: 0.5209 - accuracy: 0.8417 - val_loss: 0.5133 - val_accuracy: 0.9000\n",
            "Epoch 115/150\n",
            "4/4 [==============================] - 0s 6ms/step - loss: 0.5177 - accuracy: 0.8417 - val_loss: 0.5104 - val_accuracy: 0.8667\n",
            "Epoch 116/150\n",
            "4/4 [==============================] - 0s 5ms/step - loss: 0.5145 - accuracy: 0.8417 - val_loss: 0.5069 - val_accuracy: 0.9333\n",
            "Epoch 117/150\n",
            "4/4 [==============================] - 0s 5ms/step - loss: 0.5115 - accuracy: 0.8500 - val_loss: 0.5035 - val_accuracy: 0.9333\n",
            "Epoch 118/150\n",
            "4/4 [==============================] - 0s 7ms/step - loss: 0.5087 - accuracy: 0.8583 - val_loss: 0.5002 - val_accuracy: 0.9333\n",
            "Epoch 119/150\n",
            "4/4 [==============================] - 0s 6ms/step - loss: 0.5054 - accuracy: 0.8583 - val_loss: 0.4973 - val_accuracy: 0.9333\n",
            "Epoch 120/150\n",
            "4/4 [==============================] - 0s 6ms/step - loss: 0.5026 - accuracy: 0.8667 - val_loss: 0.4943 - val_accuracy: 0.9333\n",
            "Epoch 121/150\n",
            "4/4 [==============================] - 0s 5ms/step - loss: 0.4998 - accuracy: 0.8583 - val_loss: 0.4916 - val_accuracy: 0.9333\n",
            "Epoch 122/150\n",
            "4/4 [==============================] - 0s 5ms/step - loss: 0.4969 - accuracy: 0.8667 - val_loss: 0.4887 - val_accuracy: 0.9333\n",
            "Epoch 123/150\n",
            "4/4 [==============================] - 0s 8ms/step - loss: 0.4941 - accuracy: 0.8667 - val_loss: 0.4862 - val_accuracy: 0.9333\n",
            "Epoch 124/150\n",
            "4/4 [==============================] - 0s 6ms/step - loss: 0.4914 - accuracy: 0.8583 - val_loss: 0.4836 - val_accuracy: 0.9333\n",
            "Epoch 125/150\n",
            "4/4 [==============================] - 0s 6ms/step - loss: 0.4894 - accuracy: 0.8667 - val_loss: 0.4804 - val_accuracy: 0.9333\n",
            "Epoch 126/150\n",
            "4/4 [==============================] - 0s 5ms/step - loss: 0.4863 - accuracy: 0.8667 - val_loss: 0.4783 - val_accuracy: 0.9333\n",
            "Epoch 127/150\n",
            "4/4 [==============================] - 0s 5ms/step - loss: 0.4835 - accuracy: 0.8667 - val_loss: 0.4755 - val_accuracy: 0.9333\n",
            "Epoch 128/150\n",
            "4/4 [==============================] - 0s 6ms/step - loss: 0.4809 - accuracy: 0.8833 - val_loss: 0.4730 - val_accuracy: 0.9333\n",
            "Epoch 129/150\n",
            "4/4 [==============================] - 0s 5ms/step - loss: 0.4783 - accuracy: 0.8917 - val_loss: 0.4705 - val_accuracy: 0.9333\n",
            "Epoch 130/150\n",
            "4/4 [==============================] - 0s 5ms/step - loss: 0.4758 - accuracy: 0.8917 - val_loss: 0.4679 - val_accuracy: 0.9333\n",
            "Epoch 131/150\n",
            "4/4 [==============================] - 0s 6ms/step - loss: 0.4733 - accuracy: 0.9000 - val_loss: 0.4656 - val_accuracy: 0.9333\n",
            "Epoch 132/150\n",
            "4/4 [==============================] - 0s 5ms/step - loss: 0.4708 - accuracy: 0.9000 - val_loss: 0.4630 - val_accuracy: 0.9333\n",
            "Epoch 133/150\n",
            "4/4 [==============================] - 0s 5ms/step - loss: 0.4685 - accuracy: 0.9000 - val_loss: 0.4608 - val_accuracy: 0.9333\n",
            "Epoch 134/150\n",
            "4/4 [==============================] - 0s 6ms/step - loss: 0.4659 - accuracy: 0.9083 - val_loss: 0.4582 - val_accuracy: 0.9333\n",
            "Epoch 135/150\n",
            "4/4 [==============================] - 0s 5ms/step - loss: 0.4636 - accuracy: 0.9250 - val_loss: 0.4555 - val_accuracy: 0.9333\n",
            "Epoch 136/150\n",
            "4/4 [==============================] - 0s 5ms/step - loss: 0.4611 - accuracy: 0.9333 - val_loss: 0.4532 - val_accuracy: 0.9333\n",
            "Epoch 137/150\n",
            "4/4 [==============================] - 0s 5ms/step - loss: 0.4586 - accuracy: 0.9333 - val_loss: 0.4508 - val_accuracy: 0.9333\n",
            "Epoch 138/150\n",
            "4/4 [==============================] - 0s 5ms/step - loss: 0.4564 - accuracy: 0.9583 - val_loss: 0.4483 - val_accuracy: 0.9333\n",
            "Epoch 139/150\n",
            "4/4 [==============================] - 0s 5ms/step - loss: 0.4541 - accuracy: 0.9667 - val_loss: 0.4461 - val_accuracy: 0.9333\n",
            "Epoch 140/150\n",
            "4/4 [==============================] - 0s 5ms/step - loss: 0.4514 - accuracy: 0.9750 - val_loss: 0.4441 - val_accuracy: 0.9333\n",
            "Epoch 141/150\n",
            "4/4 [==============================] - 0s 5ms/step - loss: 0.4492 - accuracy: 0.9500 - val_loss: 0.4419 - val_accuracy: 0.9333\n",
            "Epoch 142/150\n",
            "4/4 [==============================] - 0s 5ms/step - loss: 0.4468 - accuracy: 0.9333 - val_loss: 0.4399 - val_accuracy: 0.9333\n",
            "Epoch 143/150\n",
            "4/4 [==============================] - 0s 5ms/step - loss: 0.4445 - accuracy: 0.9333 - val_loss: 0.4380 - val_accuracy: 0.9333\n",
            "Epoch 144/150\n",
            "4/4 [==============================] - 0s 5ms/step - loss: 0.4423 - accuracy: 0.9333 - val_loss: 0.4360 - val_accuracy: 0.9333\n",
            "Epoch 145/150\n",
            "4/4 [==============================] - 0s 6ms/step - loss: 0.4399 - accuracy: 0.9417 - val_loss: 0.4337 - val_accuracy: 0.9333\n",
            "Epoch 146/150\n",
            "4/4 [==============================] - 0s 6ms/step - loss: 0.4375 - accuracy: 0.9667 - val_loss: 0.4316 - val_accuracy: 0.9333\n",
            "Epoch 147/150\n",
            "4/4 [==============================] - 0s 6ms/step - loss: 0.4353 - accuracy: 0.9750 - val_loss: 0.4292 - val_accuracy: 0.9333\n",
            "Epoch 148/150\n",
            "4/4 [==============================] - 0s 6ms/step - loss: 0.4333 - accuracy: 0.9750 - val_loss: 0.4269 - val_accuracy: 0.9333\n",
            "Epoch 149/150\n",
            "4/4 [==============================] - 0s 6ms/step - loss: 0.4307 - accuracy: 0.9750 - val_loss: 0.4250 - val_accuracy: 0.9333\n",
            "Epoch 150/150\n",
            "4/4 [==============================] - 0s 6ms/step - loss: 0.4284 - accuracy: 0.9750 - val_loss: 0.4230 - val_accuracy: 0.9333\n"
          ],
          "name": "stdout"
        }
      ]
    },
    {
      "cell_type": "code",
      "metadata": {
        "id": "xFozYSMIv_L1",
        "colab_type": "code",
        "colab": {
          "base_uri": "https://localhost:8080/",
          "height": 282
        },
        "outputId": "8c1e2c14-5162-4b97-ea7e-4a85299392af"
      },
      "source": [
        "import matplotlib.pyplot as plt\n",
        "plt.plot(r.history['loss'], label='loss')\n",
        "plt.plot(r.history['val_loss'], label='val_loss')\n",
        "plt.legend()"
      ],
      "execution_count": null,
      "outputs": [
        {
          "output_type": "execute_result",
          "data": {
            "text/plain": [
              "<matplotlib.legend.Legend at 0x7f9d9cd1bd68>"
            ]
          },
          "metadata": {
            "tags": []
          },
          "execution_count": 12
        },
        {
          "output_type": "display_data",
          "data": {
            "image/png": "[encoded data removed]",
            "text/plain": [
              "<Figure size 432x288 with 1 Axes>"
            ]
          },
          "metadata": {
            "tags": [],
            "needs_background": "light"
          }
        }
      ]
    },
    {
      "cell_type": "code",
      "metadata": {
        "id": "EqXGpT1LzGrp",
        "colab_type": "code",
        "colab": {
          "base_uri": "https://localhost:8080/",
          "height": 284
        },
        "outputId": "d40832d1-7121-45ab-d28f-e717638ae17c"
      },
      "source": [
        "# Plot accuracy per iteration\n",
        "plt.plot(r.history['accuracy'], label='acc')\n",
        "plt.plot(r.history['val_accuracy'], label='val_acc')\n",
        "plt.legend()"
      ],
      "execution_count": null,
      "outputs": [
        {
          "output_type": "execute_result",
          "data": {
            "text/plain": [
              "<matplotlib.legend.Legend at 0x7f9d9c80d978>"
            ]
          },
          "metadata": {
            "tags": []
          },
          "execution_count": 13
        },
        {
          "output_type": "display_data",
          "data": {
            "image/png": "[encoded data removed]",
            "text/plain": [
              "<Figure size 432x288 with 1 Axes>"
            ]
          },
          "metadata": {
            "tags": [],
            "needs_background": "light"
          }
        }
      ]
    },
    {
      "cell_type": "code",
      "metadata": {
        "id": "4cY_yU4oz3jI",
        "colab_type": "code",
        "colab": {
          "base_uri": "https://localhost:8080/",
          "height": 34
        },
        "outputId": "dd2a0ec6-71c3-443e-9247-aa8b24759b48"
      },
      "source": [
        "import numpy as np\n",
        "rede.predict(np.array([[5.4, 2.5, 3.7, 1.0]]))"
      ],
      "execution_count": null,
      "outputs": [
        {
          "output_type": "execute_result",
          "data": {
            "text/plain": [
              "array([[0.19455257, 0.5391741 , 0.26627344]], dtype=float32)"
            ]
          },
          "metadata": {
            "tags": []
          },
          "execution_count": 14
        }
      ]
    },
    {
      "cell_type": "code",
      "metadata": {
        "id": "nubrJxtLDZJv",
        "colab_type": "code",
        "colab": {}
      },
      "source": [
        ""
      ],
      "execution_count": null,
      "outputs": []
    }
  ]
}